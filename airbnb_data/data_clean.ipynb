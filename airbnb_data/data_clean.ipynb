{
 "cells": [
  {
   "cell_type": "code",
   "execution_count": null,
   "metadata": {},
   "outputs": [],
   "source": [
    "import pandas as pd\n",
    "#add a column to the csv file\n",
    "import os\n",
    "import csv\n",
    "\n",
    "# Define the directory where your CSV files are located\n",
    "directory = '/path/to/csv/files'\n",
    "\n",
    "# Iterate through each CSV file in the directory\n",
    "for filename in os.listdir(directory):\n",
    "    if filename.endswith('.csv'):\n",
    "        filepath = os.path.join(directory, filename)\n",
    "        \n",
    "        # Extract the file name without extension\n",
    "        file_name_without_extension = os.path.splitext(filename)[0]\n",
    "        \n",
    "        # Open the CSV file and create a new CSV file with an additional column\n",
    "        with open(filepath, 'r') as csv_file:\n",
    "            csv_reader = csv.reader(csv_file)\n",
    "            rows = list(csv_reader)\n",
    "            \n",
    "        # Add the new column header to the first row\n",
    "        rows[0].append('File Name')\n",
    "        \n",
    "        # Add the file name to each corresponding row\n",
    "        for row in rows[1:]:\n",
    "            row.append(file_name_without_extension)\n",
    "        \n",
    "        # Write the updated rows to a new CSV file\n",
    "        new_filepath = os.path.join(directory, f'new_{filename}')\n",
    "        with open(new_filepath, 'w', newline='') as new_csv_file:\n",
    "            csv_writer = csv.writer(new_csv_file)\n",
    "            csv_writer.writerows(rows)\n",
    "\n",
    "print(\"Columns added to all CSV files.\")\n",
    "\n",
    "\n",
    "# combine the csv files\n",
    "csv_files =['listings (1).csv','listings (2).csv','listings (3).csv','listings (4).csv','listings (5).csv','listings (6).csv','listings (7).csv','listings (8).csv','listings (9).csv']\n",
    "dataframes = []\n",
    "\n",
    "for file in csv_files:\n",
    "    df = pd.read_csv(file)\n",
    "    dataframes.append(df)\n",
    "\n",
    "combine_df = pd.concat(dataframes, ignore_index=True)\n",
    "print(combine_df)"
   ]
  }
 ],
 "metadata": {
  "kernelspec": {
   "display_name": "Python 3",
   "language": "python",
   "name": "python3"
  },
  "language_info": {
   "codemirror_mode": {
    "name": "ipython",
    "version": 3
   },
   "file_extension": ".py",
   "mimetype": "text/x-python",
   "name": "python",
   "nbconvert_exporter": "python",
   "pygments_lexer": "ipython3",
   "version": "3.11.4"
  },
  "orig_nbformat": 4
 },
 "nbformat": 4,
 "nbformat_minor": 2
}
