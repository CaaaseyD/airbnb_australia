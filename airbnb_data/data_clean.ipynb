{
 "cells": [
  {
   "cell_type": "code",
   "execution_count": 10,
   "metadata": {},
   "outputs": [
    {
     "name": "stdout",
     "output_type": "stream",
     "text": [
      "Columns added to all CSV files.\n"
     ]
    }
   ],
   "source": [
    "import os\n",
    "import csv\n",
    "\n",
    "# Define the directory where your CSV files are located\n",
    "directory = './listings'\n",
    "\n",
    "# Iterate through each CSV file in the directory\n",
    "for filename in os.listdir(directory):\n",
    "    if filename.endswith('.csv'):\n",
    "        filepath = os.path.join(directory, filename)\n",
    "        \n",
    "        # Extract the file name without extension\n",
    "        file_name_without_extension = os.path.splitext(filename)[0]\n",
    "        \n",
    "        # Open the CSV file with the correct encoding\n",
    "        with open(filepath, 'r', encoding='utf-8-sig') as csv_file:\n",
    "            csv_reader = csv.reader(csv_file)\n",
    "            rows = list(csv_reader)\n",
    "            \n",
    "        # Add the new column header to the first row\n",
    "        rows[0].append('Location')\n",
    "        \n",
    "        # Add the file name to each corresponding row\n",
    "        for row in rows[1:]:\n",
    "            row.append(file_name_without_extension)\n",
    "        \n",
    "        # Write the updated rows to a new CSV file\n",
    "        new_filepath = os.path.join(directory, f'new_{filename}')\n",
    "        with open(new_filepath, 'w', newline='', encoding='utf-8-sig') as new_csv_file:\n",
    "            csv_writer = csv.writer(new_csv_file)\n",
    "            csv_writer.writerows(rows)\n",
    "\n",
    "print(\"Columns added to all CSV files.\")\n"
   ]
  },
  {
   "cell_type": "code",
   "execution_count": 32,
   "metadata": {},
   "outputs": [
    {
     "name": "stdout",
     "output_type": "stream",
     "text": [
      "Combined DataFrame saved successfully.\n"
     ]
    }
   ],
   "source": [
    "# combine the csv files\n",
    "csv_files =['new_Barossa Valley',\n",
    "'new_Barwon South West',\n",
    "'new_Melbourne',\n",
    "'new_Mid North Coast',\n",
    "'new_Mornington Peninsula',\n",
    "'new_Northern Rivers',\n",
    "'new_Sydney',\n",
    "'new_Tasmania',\n",
    "'new_Western Australia']\n",
    "\n",
    "# Create a new list with modified file names\n",
    "modified_csv_files = [ directory + \"/\" + name + \".csv\" for name in csv_files]\n",
    "\n",
    "dataframes = []\n",
    "for file in modified_csv_files:\n",
    "    df = pd.read_csv(file)\n",
    "    dataframes.append(df)\n",
    "\n",
    "combine_df = pd.concat(dataframes, ignore_index=True)\n",
    "\n",
    "combine_df['title'] = combine_df['name'].apply(lambda x: x.split(' · ')[0])\n",
    "combine_df['rate_score'] = combine_df['name'].apply(lambda x: x.split(' · ')[1]).str.extract(r'([0-9.]+)').astype(float)\n",
    "combine_df['number_of_bedroom'] = combine_df['name'].apply(\n",
    "    lambda x: x.split(' · ')[2].split(' ')[0] if ('bedroom' in x) and len(x.split(' · ')) >= 3 else '0'\n",
    ")\n",
    "combine_df['number_of_bed'] = combine_df['name'].apply(\n",
    "    lambda x: x.split(' · ')[3].split(' ')[0] if ('bed' in x) and len(x.split(' · ')) >= 4 else '0'\n",
    ")\n",
    "combine_df['number_of_bath'] = combine_df['name'].apply(\n",
    "    lambda x: x.split(' · ')[4].split(' ')[0] if ('bath' in x) and len(x.split(' · ')) >= 5 else '0'\n",
    ")\n",
    "\n",
    "output_filename = \"combined_data.csv\"\n",
    "\n",
    "# Create the full output file path\n",
    "output_file_path = f\"{directory}/{output_filename}\"\n",
    "\n",
    "# Save the combined DataFrame to the specified path\n",
    "combine_df.to_csv(output_file_path, index=False)  \n",
    "\n",
    "print(\"Combined DataFrame saved successfully.\")\n"
   ]
  },
  {
   "cell_type": "code",
   "execution_count": null,
   "metadata": {},
   "outputs": [],
   "source": []
  }
 ],
 "metadata": {
  "kernelspec": {
   "display_name": "Python 3",
   "language": "python",
   "name": "python3"
  },
  "language_info": {
   "codemirror_mode": {
    "name": "ipython",
    "version": 3
   },
   "file_extension": ".py",
   "mimetype": "text/x-python",
   "name": "python",
   "nbconvert_exporter": "python",
   "pygments_lexer": "ipython3",
   "version": "3.10.11"
  },
  "orig_nbformat": 4
 },
 "nbformat": 4,
 "nbformat_minor": 2
}
